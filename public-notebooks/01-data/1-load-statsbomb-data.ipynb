{
 "cells": [
  {
   "cell_type": "markdown",
   "metadata": {},
   "source": [
    "# StatsBomb Data Preparation\n",
    "\n",
    "This notebook loads [StatsBomb's 2015/16 Big 5 Leagues Free Data Release](https://statsbomb.com/what-we-do/hub/free-data/) and stores it in a HDF5 database.\n",
    "\n",
    "To be able to run it, you'll have to install socceraction with the optional `statsbombpy` and `pytables` dependencies:\n",
    "\n",
    "```\n",
    "pip install \"socceraction[statsbomb,hdf]\"\n",
    "```"
   ]
  },
  {
   "cell_type": "markdown",
   "metadata": {},
   "source": [
    "## Configuration\n",
    "We will load the StatsBomb data for the Big 5 leagues in 2015/16. The IDs of these competitions are defined in the cell below."
   ]
  },
  {
   "cell_type": "code",
   "execution_count": 1,
   "metadata": {
    "tags": []
   },
   "outputs": [],
   "source": [
    "comps = [\n",
    "    { \"league\": { \"name\": \"ENG\", \"sb_id\":  2 }, \"season\": { \"name\": \"2015/16\", \"sb_id\": 27 } },\n",
    "    { \"league\": { \"name\": \"FRA\", \"sb_id\":  7 }, \"season\": { \"name\": \"2015/16\", \"sb_id\": 27 } },\n",
    "    { \"league\": { \"name\": \"GER\", \"sb_id\":  9 }, \"season\": { \"name\": \"2015/16\", \"sb_id\": 27 } },\n",
    "    { \"league\": { \"name\": \"ESP\", \"sb_id\": 11 }, \"season\": { \"name\": \"2015/16\", \"sb_id\": 27 } },\n",
    "    { \"league\": { \"name\": \"ITA\", \"sb_id\": 12 }, \"season\": { \"name\": \"2015/16\", \"sb_id\": 27 } }\n",
    "]"
   ]
  },
  {
   "cell_type": "markdown",
   "metadata": {},
   "source": [
    "We will store the data in `../../data/`. If it does not yet exist, we create the directory now."
   ]
  },
  {
   "cell_type": "code",
   "execution_count": 2,
   "metadata": {
    "tags": []
   },
   "outputs": [],
   "source": [
    "from pathlib import Path\n",
    "\n",
    "data_dir = Path(\"../../data\")\n",
    "\n",
    "# Create data folder if it doesn't exist\n",
    "data_dir.mkdir(parents=True, exist_ok=True)"
   ]
  },
  {
   "cell_type": "markdown",
   "metadata": {},
   "source": [
    "## Set up a data loader\n",
    "\n",
    "We use the [API clients included in the socceraction library](https://socceraction.readthedocs.io/en/latest/documentation/data/index.html) to fetch data. These clients enable fetching event streams and their corresponding metadata as Pandas DataFrames using a unified data model. Below we setup a data loader to fetch data from [StatsBomb's open data repository](https://github.com/statsbomb/open-data)."
   ]
  },
  {
   "cell_type": "code",
   "execution_count": 3,
   "metadata": {
    "tags": []
   },
   "outputs": [],
   "source": [
    "from socceraction.data import StatsBombLoader\n",
    "\n",
    "SBL = StatsBombLoader(getter=\"remote\")"
   ]
  },
  {
   "cell_type": "code",
   "execution_count": 4,
   "metadata": {
    "tags": []
   },
   "outputs": [],
   "source": [
    "import warnings\n",
    "# suppress warning about missing authentication while downloading public StatsBomb data\n",
    "from statsbombpy.api_client import NoAuthWarning\n",
    "warnings.simplefilter('ignore', NoAuthWarning)"
   ]
  },
  {
   "cell_type": "markdown",
   "metadata": {},
   "source": [
    "Let's fetch all available competitions and check whether we've set the correct IDs above."
   ]
  },
  {
   "cell_type": "code",
   "execution_count": 5,
   "metadata": {
    "tags": []
   },
   "outputs": [
    {
     "data": {
      "text/plain": [
       "{'1. Bundesliga',\n",
       " 'African Cup of Nations',\n",
       " 'Champions League',\n",
       " 'Copa del Rey',\n",
       " \"FA Women's Super League\",\n",
       " 'FIFA U20 World Cup',\n",
       " 'FIFA World Cup',\n",
       " 'Indian Super league',\n",
       " 'La Liga',\n",
       " 'Liga Profesional',\n",
       " 'Ligue 1',\n",
       " 'Major League Soccer',\n",
       " 'NWSL',\n",
       " 'North American League',\n",
       " 'Premier League',\n",
       " 'Serie A',\n",
       " 'UEFA Euro',\n",
       " 'UEFA Europa League',\n",
       " \"UEFA Women's Euro\",\n",
       " \"Women's World Cup\"}"
      ]
     },
     "execution_count": 5,
     "metadata": {},
     "output_type": "execute_result"
    }
   ],
   "source": [
    "# View all available competitions\n",
    "df_competitions = SBL.competitions()\n",
    "set(df_competitions.competition_name)"
   ]
  },
  {
   "cell_type": "code",
   "execution_count": 6,
   "metadata": {
    "tags": []
   },
   "outputs": [
    {
     "data": {
      "text/html": [
       "<div>\n",
       "<style scoped>\n",
       "    .dataframe tbody tr th:only-of-type {\n",
       "        vertical-align: middle;\n",
       "    }\n",
       "\n",
       "    .dataframe tbody tr th {\n",
       "        vertical-align: top;\n",
       "    }\n",
       "\n",
       "    .dataframe thead th {\n",
       "        text-align: right;\n",
       "    }\n",
       "</style>\n",
       "<table border=\"1\" class=\"dataframe\">\n",
       "  <thead>\n",
       "    <tr style=\"text-align: right;\">\n",
       "      <th></th>\n",
       "      <th></th>\n",
       "      <th>competition_name</th>\n",
       "      <th>country_name</th>\n",
       "      <th>competition_gender</th>\n",
       "      <th>season_name</th>\n",
       "    </tr>\n",
       "    <tr>\n",
       "      <th>competition_id</th>\n",
       "      <th>season_id</th>\n",
       "      <th></th>\n",
       "      <th></th>\n",
       "      <th></th>\n",
       "      <th></th>\n",
       "    </tr>\n",
       "  </thead>\n",
       "  <tbody>\n",
       "    <tr>\n",
       "      <th>2</th>\n",
       "      <th>27</th>\n",
       "      <td>Premier League</td>\n",
       "      <td>England</td>\n",
       "      <td>male</td>\n",
       "      <td>2015/2016</td>\n",
       "    </tr>\n",
       "    <tr>\n",
       "      <th>7</th>\n",
       "      <th>27</th>\n",
       "      <td>Ligue 1</td>\n",
       "      <td>France</td>\n",
       "      <td>male</td>\n",
       "      <td>2015/2016</td>\n",
       "    </tr>\n",
       "    <tr>\n",
       "      <th>9</th>\n",
       "      <th>27</th>\n",
       "      <td>1. Bundesliga</td>\n",
       "      <td>Germany</td>\n",
       "      <td>male</td>\n",
       "      <td>2015/2016</td>\n",
       "    </tr>\n",
       "    <tr>\n",
       "      <th>11</th>\n",
       "      <th>27</th>\n",
       "      <td>La Liga</td>\n",
       "      <td>Spain</td>\n",
       "      <td>male</td>\n",
       "      <td>2015/2016</td>\n",
       "    </tr>\n",
       "    <tr>\n",
       "      <th>12</th>\n",
       "      <th>27</th>\n",
       "      <td>Serie A</td>\n",
       "      <td>Italy</td>\n",
       "      <td>male</td>\n",
       "      <td>2015/2016</td>\n",
       "    </tr>\n",
       "  </tbody>\n",
       "</table>\n",
       "</div>"
      ],
      "text/plain": [
       "                         competition_name country_name competition_gender  \\\n",
       "competition_id season_id                                                    \n",
       "2              27          Premier League      England               male   \n",
       "7              27                 Ligue 1       France               male   \n",
       "9              27           1. Bundesliga      Germany               male   \n",
       "11             27                 La Liga        Spain               male   \n",
       "12             27                 Serie A        Italy               male   \n",
       "\n",
       "                         season_name  \n",
       "competition_id season_id              \n",
       "2              27          2015/2016  \n",
       "7              27          2015/2016  \n",
       "9              27          2015/2016  \n",
       "11             27          2015/2016  \n",
       "12             27          2015/2016  "
      ]
     },
     "execution_count": 6,
     "metadata": {},
     "output_type": "execute_result"
    }
   ],
   "source": [
    "df_competitions \\\n",
    " .set_index([\"competition_id\", \"season_id\"]) \\\n",
    " .loc[[(c['league']['sb_id'], c['season']['sb_id']) for c in comps]]"
   ]
  },
  {
   "cell_type": "markdown",
   "metadata": {},
   "source": [
    "## Download and store data\n",
    "\n",
    "Next, we download and store the data in a HDF file. Therefore, SoccerAction providers the `socceraction.data.HDFDataset` class which is a wrapper around `pandas.HDFStore` that adds a convenient interface for storing and retrieving and event stream dataset. If you prefere SQLite over HDF, SoccerAction also provides a `socceraction.data.SQLDataset` or you can implement an interface for your own custom data storage solution by extending the `socceraction.data.Dataset` class."
   ]
  },
  {
   "cell_type": "code",
   "execution_count": 7,
   "metadata": {
    "tags": []
   },
   "outputs": [],
   "source": [
    "from socceraction.data import HDFDataset\n",
    "\n",
    "# create a HDF dataset\n",
    "dataset = HDFDataset(\n",
    "    path=(data_dir / \"statsbomb-bigfive-1516.h5\"), \n",
    "    mode=\"w\"  # note: using `mode=w` will recreate the H5 file if it already exists. To add data to an existing dataset, use `mode=a`.\n",
    ")"
   ]
  },
  {
   "cell_type": "code",
   "execution_count": 8,
   "metadata": {
    "tags": []
   },
   "outputs": [
    {
     "name": "stdout",
     "output_type": "stream",
     "text": [
      "Importing ENG 2015/16 ...\n"
     ]
    },
    {
     "name": "stderr",
     "output_type": "stream",
     "text": [
      "Loading game data...: 100%|████████████████████████████████████████████████████████████████████████████████████████████████████████████████████████████████████████████████████████████████████████████████████████████████| 380/380 [08:56<00:00,  1.41s/it]\n"
     ]
    },
    {
     "name": "stdout",
     "output_type": "stream",
     "text": [
      "Importing FRA 2015/16 ...\n"
     ]
    },
    {
     "name": "stderr",
     "output_type": "stream",
     "text": [
      "Loading game data...: 100%|████████████████████████████████████████████████████████████████████████████████████████████████████████████████████████████████████████████████████████████████████████████████████████████████| 377/377 [09:10<00:00,  1.46s/it]\n"
     ]
    },
    {
     "name": "stdout",
     "output_type": "stream",
     "text": [
      "Importing GER 2015/16 ...\n"
     ]
    },
    {
     "name": "stderr",
     "output_type": "stream",
     "text": [
      "Loading game data...: 100%|████████████████████████████████████████████████████████████████████████████████████████████████████████████████████████████████████████████████████████████████████████████████████████████████| 306/306 [07:24<00:00,  1.45s/it]\n"
     ]
    },
    {
     "name": "stdout",
     "output_type": "stream",
     "text": [
      "Importing ESP 2015/16 ...\n"
     ]
    },
    {
     "name": "stderr",
     "output_type": "stream",
     "text": [
      "Loading game data...: 100%|████████████████████████████████████████████████████████████████████████████████████████████████████████████████████████████████████████████████████████████████████████████████████████████████| 380/380 [09:03<00:00,  1.43s/it]\n"
     ]
    },
    {
     "name": "stdout",
     "output_type": "stream",
     "text": [
      "Importing ITA 2015/16 ...\n"
     ]
    },
    {
     "name": "stderr",
     "output_type": "stream",
     "text": [
      "Loading game data...: 100%|████████████████████████████████████████████████████████████████████████████████████████████████████████████████████████████████████████████████████████████████████████████████████████████████| 380/380 [09:22<00:00,  1.48s/it]\n"
     ]
    }
   ],
   "source": [
    "for comp in comps:\n",
    "    # get name and id of competition\n",
    "    competition_name, competition_id = comp['league']['name'], comp['league']['sb_id']\n",
    "    season_name, season_id = comp['season']['name'], comp['season']['sb_id']\n",
    "    print(f\"Importing {competition_name} {season_name} ...\")\n",
    "    # import data\n",
    "    dataset.import_data(SBL, competition_id, season_id)"
   ]
  },
  {
   "cell_type": "markdown",
   "metadata": {},
   "source": [
    "The HDF database now contains all games, teams, players and events performed during each game."
   ]
  },
  {
   "cell_type": "code",
   "execution_count": 9,
   "metadata": {},
   "outputs": [
    {
     "data": {
      "text/html": [
       "<div>\n",
       "<style scoped>\n",
       "    .dataframe tbody tr th:only-of-type {\n",
       "        vertical-align: middle;\n",
       "    }\n",
       "\n",
       "    .dataframe tbody tr th {\n",
       "        vertical-align: top;\n",
       "    }\n",
       "\n",
       "    .dataframe thead th {\n",
       "        text-align: right;\n",
       "    }\n",
       "</style>\n",
       "<table border=\"1\" class=\"dataframe\">\n",
       "  <thead>\n",
       "    <tr style=\"text-align: right;\">\n",
       "      <th></th>\n",
       "      <th>season_id</th>\n",
       "      <th>competition_id</th>\n",
       "      <th>competition_stage</th>\n",
       "      <th>game_day</th>\n",
       "      <th>game_date</th>\n",
       "      <th>home_team_id</th>\n",
       "      <th>away_team_id</th>\n",
       "      <th>home_score</th>\n",
       "      <th>away_score</th>\n",
       "      <th>venue</th>\n",
       "      <th>referee</th>\n",
       "    </tr>\n",
       "    <tr>\n",
       "      <th>game_id</th>\n",
       "      <th></th>\n",
       "      <th></th>\n",
       "      <th></th>\n",
       "      <th></th>\n",
       "      <th></th>\n",
       "      <th></th>\n",
       "      <th></th>\n",
       "      <th></th>\n",
       "      <th></th>\n",
       "      <th></th>\n",
       "      <th></th>\n",
       "    </tr>\n",
       "  </thead>\n",
       "  <tbody>\n",
       "    <tr>\n",
       "      <th>3754058</th>\n",
       "      <td>27</td>\n",
       "      <td>2</td>\n",
       "      <td>Regular Season</td>\n",
       "      <td>20</td>\n",
       "      <td>2016-01-02 16:00:00</td>\n",
       "      <td>22</td>\n",
       "      <td>28</td>\n",
       "      <td>0</td>\n",
       "      <td>0</td>\n",
       "      <td>King Power Stadium</td>\n",
       "      <td>Andre Marriner</td>\n",
       "    </tr>\n",
       "    <tr>\n",
       "      <th>3754245</th>\n",
       "      <td>27</td>\n",
       "      <td>2</td>\n",
       "      <td>Regular Season</td>\n",
       "      <td>9</td>\n",
       "      <td>2015-10-17 16:00:00</td>\n",
       "      <td>27</td>\n",
       "      <td>41</td>\n",
       "      <td>1</td>\n",
       "      <td>0</td>\n",
       "      <td>The Hawthorns</td>\n",
       "      <td>Martin Atkinson</td>\n",
       "    </tr>\n",
       "    <tr>\n",
       "      <th>3754136</th>\n",
       "      <td>27</td>\n",
       "      <td>2</td>\n",
       "      <td>Regular Season</td>\n",
       "      <td>17</td>\n",
       "      <td>2015-12-19 18:30:00</td>\n",
       "      <td>37</td>\n",
       "      <td>59</td>\n",
       "      <td>1</td>\n",
       "      <td>1</td>\n",
       "      <td>St. James'' Park</td>\n",
       "      <td>Martin Atkinson</td>\n",
       "    </tr>\n",
       "    <tr>\n",
       "      <th>3754037</th>\n",
       "      <td>27</td>\n",
       "      <td>2</td>\n",
       "      <td>Regular Season</td>\n",
       "      <td>36</td>\n",
       "      <td>2016-04-30 16:00:00</td>\n",
       "      <td>29</td>\n",
       "      <td>28</td>\n",
       "      <td>2</td>\n",
       "      <td>1</td>\n",
       "      <td>Goodison Park</td>\n",
       "      <td>Neil Swarbrick</td>\n",
       "    </tr>\n",
       "    <tr>\n",
       "      <th>3754039</th>\n",
       "      <td>27</td>\n",
       "      <td>2</td>\n",
       "      <td>Regular Season</td>\n",
       "      <td>26</td>\n",
       "      <td>2016-02-13 16:00:00</td>\n",
       "      <td>31</td>\n",
       "      <td>23</td>\n",
       "      <td>1</td>\n",
       "      <td>2</td>\n",
       "      <td>Selhurst Park</td>\n",
       "      <td>Robert Madley</td>\n",
       "    </tr>\n",
       "  </tbody>\n",
       "</table>\n",
       "</div>"
      ],
      "text/plain": [
       "         season_id  competition_id competition_stage  game_day  \\\n",
       "game_id                                                          \n",
       "3754058         27               2    Regular Season        20   \n",
       "3754245         27               2    Regular Season         9   \n",
       "3754136         27               2    Regular Season        17   \n",
       "3754037         27               2    Regular Season        36   \n",
       "3754039         27               2    Regular Season        26   \n",
       "\n",
       "                  game_date  home_team_id  away_team_id  home_score  \\\n",
       "game_id                                                               \n",
       "3754058 2016-01-02 16:00:00            22            28           0   \n",
       "3754245 2015-10-17 16:00:00            27            41           1   \n",
       "3754136 2015-12-19 18:30:00            37            59           1   \n",
       "3754037 2016-04-30 16:00:00            29            28           2   \n",
       "3754039 2016-02-13 16:00:00            31            23           1   \n",
       "\n",
       "         away_score                venue          referee  \n",
       "game_id                                                    \n",
       "3754058           0  King Power Stadium    Andre Marriner  \n",
       "3754245           0        The Hawthorns  Martin Atkinson  \n",
       "3754136           1     St. James'' Park  Martin Atkinson  \n",
       "3754037           1        Goodison Park   Neil Swarbrick  \n",
       "3754039           2        Selhurst Park    Robert Madley  "
      ]
     },
     "execution_count": 9,
     "metadata": {},
     "output_type": "execute_result"
    }
   ],
   "source": [
    "dataset.games().head()"
   ]
  },
  {
   "cell_type": "code",
   "execution_count": 10,
   "metadata": {},
   "outputs": [
    {
     "data": {
      "text/html": [
       "<div>\n",
       "<style scoped>\n",
       "    .dataframe tbody tr th:only-of-type {\n",
       "        vertical-align: middle;\n",
       "    }\n",
       "\n",
       "    .dataframe tbody tr th {\n",
       "        vertical-align: top;\n",
       "    }\n",
       "\n",
       "    .dataframe thead th {\n",
       "        text-align: right;\n",
       "    }\n",
       "</style>\n",
       "<table border=\"1\" class=\"dataframe\">\n",
       "  <thead>\n",
       "    <tr style=\"text-align: right;\">\n",
       "      <th></th>\n",
       "      <th>team_name</th>\n",
       "    </tr>\n",
       "    <tr>\n",
       "      <th>team_id</th>\n",
       "      <th></th>\n",
       "    </tr>\n",
       "  </thead>\n",
       "  <tbody>\n",
       "    <tr>\n",
       "      <th>31</th>\n",
       "      <td>Crystal Palace</td>\n",
       "    </tr>\n",
       "    <tr>\n",
       "      <th>41</th>\n",
       "      <td>Sunderland</td>\n",
       "    </tr>\n",
       "    <tr>\n",
       "      <th>25</th>\n",
       "      <td>Southampton</td>\n",
       "    </tr>\n",
       "    <tr>\n",
       "      <th>37</th>\n",
       "      <td>Newcastle United</td>\n",
       "    </tr>\n",
       "    <tr>\n",
       "      <th>30</th>\n",
       "      <td>Stoke City</td>\n",
       "    </tr>\n",
       "  </tbody>\n",
       "</table>\n",
       "</div>"
      ],
      "text/plain": [
       "                team_name\n",
       "team_id                  \n",
       "31         Crystal Palace\n",
       "41             Sunderland\n",
       "25            Southampton\n",
       "37       Newcastle United\n",
       "30             Stoke City"
      ]
     },
     "execution_count": 10,
     "metadata": {},
     "output_type": "execute_result"
    }
   ],
   "source": [
    "dataset.teams().head()"
   ]
  },
  {
   "cell_type": "code",
   "execution_count": 11,
   "metadata": {},
   "outputs": [
    {
     "data": {
      "text/html": [
       "<div>\n",
       "<style scoped>\n",
       "    .dataframe tbody tr th:only-of-type {\n",
       "        vertical-align: middle;\n",
       "    }\n",
       "\n",
       "    .dataframe tbody tr th {\n",
       "        vertical-align: top;\n",
       "    }\n",
       "\n",
       "    .dataframe thead th {\n",
       "        text-align: right;\n",
       "    }\n",
       "</style>\n",
       "<table border=\"1\" class=\"dataframe\">\n",
       "  <thead>\n",
       "    <tr style=\"text-align: right;\">\n",
       "      <th></th>\n",
       "      <th>team_id</th>\n",
       "      <th>player_name</th>\n",
       "    </tr>\n",
       "    <tr>\n",
       "      <th>player_id</th>\n",
       "      <th></th>\n",
       "      <th></th>\n",
       "    </tr>\n",
       "  </thead>\n",
       "  <tbody>\n",
       "    <tr>\n",
       "      <th>3049</th>\n",
       "      <td>28</td>\n",
       "      <td>Matt Ritchie</td>\n",
       "    </tr>\n",
       "    <tr>\n",
       "      <th>3085</th>\n",
       "      <td>28</td>\n",
       "      <td>Glenn Murray</td>\n",
       "    </tr>\n",
       "    <tr>\n",
       "      <th>3304</th>\n",
       "      <td>28</td>\n",
       "      <td>Harry Arter</td>\n",
       "    </tr>\n",
       "    <tr>\n",
       "      <th>3341</th>\n",
       "      <td>28</td>\n",
       "      <td>Steve Cook</td>\n",
       "    </tr>\n",
       "    <tr>\n",
       "      <th>3343</th>\n",
       "      <td>28</td>\n",
       "      <td>Dan Gosling</td>\n",
       "    </tr>\n",
       "  </tbody>\n",
       "</table>\n",
       "</div>"
      ],
      "text/plain": [
       "           team_id   player_name\n",
       "player_id                       \n",
       "3049            28  Matt Ritchie\n",
       "3085            28  Glenn Murray\n",
       "3304            28   Harry Arter\n",
       "3341            28    Steve Cook\n",
       "3343            28   Dan Gosling"
      ]
     },
     "execution_count": 11,
     "metadata": {},
     "output_type": "execute_result"
    }
   ],
   "source": [
    "dataset.players().head()"
   ]
  },
  {
   "cell_type": "code",
   "execution_count": 12,
   "metadata": {},
   "outputs": [
    {
     "data": {
      "text/html": [
       "<div>\n",
       "<style scoped>\n",
       "    .dataframe tbody tr th:only-of-type {\n",
       "        vertical-align: middle;\n",
       "    }\n",
       "\n",
       "    .dataframe tbody tr th {\n",
       "        vertical-align: top;\n",
       "    }\n",
       "\n",
       "    .dataframe thead th {\n",
       "        text-align: right;\n",
       "    }\n",
       "</style>\n",
       "<table border=\"1\" class=\"dataframe\">\n",
       "  <thead>\n",
       "    <tr style=\"text-align: right;\">\n",
       "      <th></th>\n",
       "      <th>game_id</th>\n",
       "      <th>period_id</th>\n",
       "      <th>team_id</th>\n",
       "      <th>player_id</th>\n",
       "      <th>type_id</th>\n",
       "      <th>type_name</th>\n",
       "      <th>index</th>\n",
       "      <th>timestamp</th>\n",
       "      <th>minute</th>\n",
       "      <th>second</th>\n",
       "      <th>...</th>\n",
       "      <th>team_name</th>\n",
       "      <th>duration</th>\n",
       "      <th>extra</th>\n",
       "      <th>related_events</th>\n",
       "      <th>player_name</th>\n",
       "      <th>position_id</th>\n",
       "      <th>position_name</th>\n",
       "      <th>location</th>\n",
       "      <th>under_pressure</th>\n",
       "      <th>counterpress</th>\n",
       "    </tr>\n",
       "    <tr>\n",
       "      <th>event_id</th>\n",
       "      <th></th>\n",
       "      <th></th>\n",
       "      <th></th>\n",
       "      <th></th>\n",
       "      <th></th>\n",
       "      <th></th>\n",
       "      <th></th>\n",
       "      <th></th>\n",
       "      <th></th>\n",
       "      <th></th>\n",
       "      <th></th>\n",
       "      <th></th>\n",
       "      <th></th>\n",
       "      <th></th>\n",
       "      <th></th>\n",
       "      <th></th>\n",
       "      <th></th>\n",
       "      <th></th>\n",
       "      <th></th>\n",
       "      <th></th>\n",
       "      <th></th>\n",
       "    </tr>\n",
       "  </thead>\n",
       "  <tbody>\n",
       "    <tr>\n",
       "      <th>9153e9f4-f69c-4e04-8f64-505592e212cd</th>\n",
       "      <td>3754058</td>\n",
       "      <td>1</td>\n",
       "      <td>22</td>\n",
       "      <td>NaN</td>\n",
       "      <td>35</td>\n",
       "      <td>Starting XI</td>\n",
       "      <td>1</td>\n",
       "      <td>0 days 00:00:00</td>\n",
       "      <td>0</td>\n",
       "      <td>0</td>\n",
       "      <td>...</td>\n",
       "      <td>Leicester City</td>\n",
       "      <td>0.000000</td>\n",
       "      <td>{'tactics': {'formation': 442, 'lineup': [{'pl...</td>\n",
       "      <td>[]</td>\n",
       "      <td>NaN</td>\n",
       "      <td>NaN</td>\n",
       "      <td>NaN</td>\n",
       "      <td>NaN</td>\n",
       "      <td>False</td>\n",
       "      <td>False</td>\n",
       "    </tr>\n",
       "    <tr>\n",
       "      <th>3fbcf4e7-94d1-485a-be85-fd26a6af0318</th>\n",
       "      <td>3754058</td>\n",
       "      <td>1</td>\n",
       "      <td>28</td>\n",
       "      <td>NaN</td>\n",
       "      <td>35</td>\n",
       "      <td>Starting XI</td>\n",
       "      <td>2</td>\n",
       "      <td>0 days 00:00:00</td>\n",
       "      <td>0</td>\n",
       "      <td>0</td>\n",
       "      <td>...</td>\n",
       "      <td>AFC Bournemouth</td>\n",
       "      <td>0.000000</td>\n",
       "      <td>{'tactics': {'formation': 4141, 'lineup': [{'p...</td>\n",
       "      <td>[]</td>\n",
       "      <td>NaN</td>\n",
       "      <td>NaN</td>\n",
       "      <td>NaN</td>\n",
       "      <td>NaN</td>\n",
       "      <td>False</td>\n",
       "      <td>False</td>\n",
       "    </tr>\n",
       "    <tr>\n",
       "      <th>06a9a4dc-d9c9-40f6-bd89-437ba7fe682d</th>\n",
       "      <td>3754058</td>\n",
       "      <td>1</td>\n",
       "      <td>28</td>\n",
       "      <td>NaN</td>\n",
       "      <td>18</td>\n",
       "      <td>Half Start</td>\n",
       "      <td>3</td>\n",
       "      <td>0 days 00:00:00</td>\n",
       "      <td>0</td>\n",
       "      <td>0</td>\n",
       "      <td>...</td>\n",
       "      <td>AFC Bournemouth</td>\n",
       "      <td>0.000000</td>\n",
       "      <td>{}</td>\n",
       "      <td>[100362ee-9311-4187-bd8a-0201d9db2565]</td>\n",
       "      <td>NaN</td>\n",
       "      <td>NaN</td>\n",
       "      <td>NaN</td>\n",
       "      <td>NaN</td>\n",
       "      <td>False</td>\n",
       "      <td>False</td>\n",
       "    </tr>\n",
       "    <tr>\n",
       "      <th>100362ee-9311-4187-bd8a-0201d9db2565</th>\n",
       "      <td>3754058</td>\n",
       "      <td>1</td>\n",
       "      <td>22</td>\n",
       "      <td>NaN</td>\n",
       "      <td>18</td>\n",
       "      <td>Half Start</td>\n",
       "      <td>4</td>\n",
       "      <td>0 days 00:00:00</td>\n",
       "      <td>0</td>\n",
       "      <td>0</td>\n",
       "      <td>...</td>\n",
       "      <td>Leicester City</td>\n",
       "      <td>0.000000</td>\n",
       "      <td>{}</td>\n",
       "      <td>[06a9a4dc-d9c9-40f6-bd89-437ba7fe682d]</td>\n",
       "      <td>NaN</td>\n",
       "      <td>NaN</td>\n",
       "      <td>NaN</td>\n",
       "      <td>NaN</td>\n",
       "      <td>False</td>\n",
       "      <td>False</td>\n",
       "    </tr>\n",
       "    <tr>\n",
       "      <th>2ca23eea-a984-47e4-8243-8f00880ad1c9</th>\n",
       "      <td>3754058</td>\n",
       "      <td>1</td>\n",
       "      <td>28</td>\n",
       "      <td>3343.0</td>\n",
       "      <td>30</td>\n",
       "      <td>Pass</td>\n",
       "      <td>5</td>\n",
       "      <td>0 days 00:00:01.753000</td>\n",
       "      <td>0</td>\n",
       "      <td>1</td>\n",
       "      <td>...</td>\n",
       "      <td>AFC Bournemouth</td>\n",
       "      <td>0.308263</td>\n",
       "      <td>{'pass': {'recipient': {'id': 3346, 'name': 'J...</td>\n",
       "      <td>[1f98c89e-2326-4200-8c12-a987fdbbaf2e]</td>\n",
       "      <td>Dan Gosling</td>\n",
       "      <td>13.0</td>\n",
       "      <td>Right Center Midfield</td>\n",
       "      <td>[61.0, 40.1]</td>\n",
       "      <td>False</td>\n",
       "      <td>False</td>\n",
       "    </tr>\n",
       "  </tbody>\n",
       "</table>\n",
       "<p>5 rows × 25 columns</p>\n",
       "</div>"
      ],
      "text/plain": [
       "                                      game_id  period_id  team_id  player_id  \\\n",
       "event_id                                                                       \n",
       "9153e9f4-f69c-4e04-8f64-505592e212cd  3754058          1       22        NaN   \n",
       "3fbcf4e7-94d1-485a-be85-fd26a6af0318  3754058          1       28        NaN   \n",
       "06a9a4dc-d9c9-40f6-bd89-437ba7fe682d  3754058          1       28        NaN   \n",
       "100362ee-9311-4187-bd8a-0201d9db2565  3754058          1       22        NaN   \n",
       "2ca23eea-a984-47e4-8243-8f00880ad1c9  3754058          1       28     3343.0   \n",
       "\n",
       "                                      type_id    type_name  index  \\\n",
       "event_id                                                            \n",
       "9153e9f4-f69c-4e04-8f64-505592e212cd       35  Starting XI      1   \n",
       "3fbcf4e7-94d1-485a-be85-fd26a6af0318       35  Starting XI      2   \n",
       "06a9a4dc-d9c9-40f6-bd89-437ba7fe682d       18   Half Start      3   \n",
       "100362ee-9311-4187-bd8a-0201d9db2565       18   Half Start      4   \n",
       "2ca23eea-a984-47e4-8243-8f00880ad1c9       30         Pass      5   \n",
       "\n",
       "                                                  timestamp  minute  second  \\\n",
       "event_id                                                                      \n",
       "9153e9f4-f69c-4e04-8f64-505592e212cd        0 days 00:00:00       0       0   \n",
       "3fbcf4e7-94d1-485a-be85-fd26a6af0318        0 days 00:00:00       0       0   \n",
       "06a9a4dc-d9c9-40f6-bd89-437ba7fe682d        0 days 00:00:00       0       0   \n",
       "100362ee-9311-4187-bd8a-0201d9db2565        0 days 00:00:00       0       0   \n",
       "2ca23eea-a984-47e4-8243-8f00880ad1c9 0 days 00:00:01.753000       0       1   \n",
       "\n",
       "                                      ...        team_name  duration  \\\n",
       "event_id                              ...                              \n",
       "9153e9f4-f69c-4e04-8f64-505592e212cd  ...   Leicester City  0.000000   \n",
       "3fbcf4e7-94d1-485a-be85-fd26a6af0318  ...  AFC Bournemouth  0.000000   \n",
       "06a9a4dc-d9c9-40f6-bd89-437ba7fe682d  ...  AFC Bournemouth  0.000000   \n",
       "100362ee-9311-4187-bd8a-0201d9db2565  ...   Leicester City  0.000000   \n",
       "2ca23eea-a984-47e4-8243-8f00880ad1c9  ...  AFC Bournemouth  0.308263   \n",
       "\n",
       "                                                                                  extra  \\\n",
       "event_id                                                                                  \n",
       "9153e9f4-f69c-4e04-8f64-505592e212cd  {'tactics': {'formation': 442, 'lineup': [{'pl...   \n",
       "3fbcf4e7-94d1-485a-be85-fd26a6af0318  {'tactics': {'formation': 4141, 'lineup': [{'p...   \n",
       "06a9a4dc-d9c9-40f6-bd89-437ba7fe682d                                                 {}   \n",
       "100362ee-9311-4187-bd8a-0201d9db2565                                                 {}   \n",
       "2ca23eea-a984-47e4-8243-8f00880ad1c9  {'pass': {'recipient': {'id': 3346, 'name': 'J...   \n",
       "\n",
       "                                                              related_events  \\\n",
       "event_id                                                                       \n",
       "9153e9f4-f69c-4e04-8f64-505592e212cd                                      []   \n",
       "3fbcf4e7-94d1-485a-be85-fd26a6af0318                                      []   \n",
       "06a9a4dc-d9c9-40f6-bd89-437ba7fe682d  [100362ee-9311-4187-bd8a-0201d9db2565]   \n",
       "100362ee-9311-4187-bd8a-0201d9db2565  [06a9a4dc-d9c9-40f6-bd89-437ba7fe682d]   \n",
       "2ca23eea-a984-47e4-8243-8f00880ad1c9  [1f98c89e-2326-4200-8c12-a987fdbbaf2e]   \n",
       "\n",
       "                                      player_name position_id  \\\n",
       "event_id                                                        \n",
       "9153e9f4-f69c-4e04-8f64-505592e212cd          NaN         NaN   \n",
       "3fbcf4e7-94d1-485a-be85-fd26a6af0318          NaN         NaN   \n",
       "06a9a4dc-d9c9-40f6-bd89-437ba7fe682d          NaN         NaN   \n",
       "100362ee-9311-4187-bd8a-0201d9db2565          NaN         NaN   \n",
       "2ca23eea-a984-47e4-8243-8f00880ad1c9  Dan Gosling        13.0   \n",
       "\n",
       "                                              position_name      location  \\\n",
       "event_id                                                                    \n",
       "9153e9f4-f69c-4e04-8f64-505592e212cd                    NaN           NaN   \n",
       "3fbcf4e7-94d1-485a-be85-fd26a6af0318                    NaN           NaN   \n",
       "06a9a4dc-d9c9-40f6-bd89-437ba7fe682d                    NaN           NaN   \n",
       "100362ee-9311-4187-bd8a-0201d9db2565                    NaN           NaN   \n",
       "2ca23eea-a984-47e4-8243-8f00880ad1c9  Right Center Midfield  [61.0, 40.1]   \n",
       "\n",
       "                                     under_pressure counterpress  \n",
       "event_id                                                          \n",
       "9153e9f4-f69c-4e04-8f64-505592e212cd          False        False  \n",
       "3fbcf4e7-94d1-485a-be85-fd26a6af0318          False        False  \n",
       "06a9a4dc-d9c9-40f6-bd89-437ba7fe682d          False        False  \n",
       "100362ee-9311-4187-bd8a-0201d9db2565          False        False  \n",
       "2ca23eea-a984-47e4-8243-8f00880ad1c9          False        False  \n",
       "\n",
       "[5 rows x 25 columns]"
      ]
     },
     "execution_count": 12,
     "metadata": {},
     "output_type": "execute_result"
    }
   ],
   "source": [
    "dataset.events(game_id=3754058).head()"
   ]
  },
  {
   "cell_type": "markdown",
   "metadata": {},
   "source": [
    "Additionally, the `HDFDataset` provides a number of methods which makes it conventient to access the dataset. Below are a few examples."
   ]
  },
  {
   "cell_type": "code",
   "execution_count": 13,
   "metadata": {},
   "outputs": [
    {
     "data": {
      "text/html": [
       "<div>\n",
       "<style scoped>\n",
       "    .dataframe tbody tr th:only-of-type {\n",
       "        vertical-align: middle;\n",
       "    }\n",
       "\n",
       "    .dataframe tbody tr th {\n",
       "        vertical-align: top;\n",
       "    }\n",
       "\n",
       "    .dataframe thead th {\n",
       "        text-align: right;\n",
       "    }\n",
       "</style>\n",
       "<table border=\"1\" class=\"dataframe\">\n",
       "  <thead>\n",
       "    <tr style=\"text-align: right;\">\n",
       "      <th></th>\n",
       "      <th>team_id</th>\n",
       "      <th>player_name</th>\n",
       "    </tr>\n",
       "    <tr>\n",
       "      <th>player_id</th>\n",
       "      <th></th>\n",
       "      <th></th>\n",
       "    </tr>\n",
       "  </thead>\n",
       "  <tbody>\n",
       "    <tr>\n",
       "      <th>75899</th>\n",
       "      <td>59</td>\n",
       "      <td>Kevin Toner</td>\n",
       "    </tr>\n",
       "    <tr>\n",
       "      <th>11992</th>\n",
       "      <td>24</td>\n",
       "      <td>Kevin Linford Stewart</td>\n",
       "    </tr>\n",
       "    <tr>\n",
       "      <th>3611</th>\n",
       "      <td>38</td>\n",
       "      <td>Kevin Wimmer</td>\n",
       "    </tr>\n",
       "    <tr>\n",
       "      <th>3089</th>\n",
       "      <td>36</td>\n",
       "      <td>Kevin De Bruyne</td>\n",
       "    </tr>\n",
       "    <tr>\n",
       "      <th>4317</th>\n",
       "      <td>29</td>\n",
       "      <td>Kevin Mirallas</td>\n",
       "    </tr>\n",
       "    <tr>\n",
       "      <th>16027</th>\n",
       "      <td>37</td>\n",
       "      <td>Kevin Mbabu</td>\n",
       "    </tr>\n",
       "    <tr>\n",
       "      <th>21540</th>\n",
       "      <td>40</td>\n",
       "      <td>Kevin Nolan</td>\n",
       "    </tr>\n",
       "    <tr>\n",
       "      <th>4440</th>\n",
       "      <td>131</td>\n",
       "      <td>Kevin Trapp</td>\n",
       "    </tr>\n",
       "    <tr>\n",
       "      <th>4902</th>\n",
       "      <td>131</td>\n",
       "      <td>Kevin Rimane</td>\n",
       "    </tr>\n",
       "    <tr>\n",
       "      <th>8215</th>\n",
       "      <td>175</td>\n",
       "      <td>Kevin Volland</td>\n",
       "    </tr>\n",
       "  </tbody>\n",
       "</table>\n",
       "</div>"
      ],
      "text/plain": [
       "           team_id            player_name\n",
       "player_id                                \n",
       "75899           59            Kevin Toner\n",
       "11992           24  Kevin Linford Stewart\n",
       "3611            38           Kevin Wimmer\n",
       "3089            36        Kevin De Bruyne\n",
       "4317            29         Kevin Mirallas\n",
       "16027           37            Kevin Mbabu\n",
       "21540           40            Kevin Nolan\n",
       "4440           131            Kevin Trapp\n",
       "4902           131           Kevin Rimane\n",
       "8215           175          Kevin Volland"
      ]
     },
     "execution_count": 13,
     "metadata": {},
     "output_type": "execute_result"
    }
   ],
   "source": [
    "# Find a player in the dataset\n",
    "dataset.search_player(\"Kevin\")"
   ]
  },
  {
   "cell_type": "code",
   "execution_count": 14,
   "metadata": {},
   "outputs": [
    {
     "data": {
      "text/html": [
       "<div>\n",
       "<style scoped>\n",
       "    .dataframe tbody tr th:only-of-type {\n",
       "        vertical-align: middle;\n",
       "    }\n",
       "\n",
       "    .dataframe tbody tr th {\n",
       "        vertical-align: top;\n",
       "    }\n",
       "\n",
       "    .dataframe thead th {\n",
       "        text-align: right;\n",
       "    }\n",
       "</style>\n",
       "<table border=\"1\" class=\"dataframe\">\n",
       "  <thead>\n",
       "    <tr style=\"text-align: right;\">\n",
       "      <th></th>\n",
       "      <th>team_name</th>\n",
       "    </tr>\n",
       "    <tr>\n",
       "      <th>team_id</th>\n",
       "      <th></th>\n",
       "    </tr>\n",
       "  </thead>\n",
       "  <tbody>\n",
       "    <tr>\n",
       "      <th>39</th>\n",
       "      <td>Manchester United</td>\n",
       "    </tr>\n",
       "    <tr>\n",
       "      <th>36</th>\n",
       "      <td>Manchester City</td>\n",
       "    </tr>\n",
       "  </tbody>\n",
       "</table>\n",
       "</div>"
      ],
      "text/plain": [
       "                 team_name\n",
       "team_id                   \n",
       "39       Manchester United\n",
       "36         Manchester City"
      ]
     },
     "execution_count": 14,
     "metadata": {},
     "output_type": "execute_result"
    }
   ],
   "source": [
    "# Find a team in the dataset\n",
    "dataset.search_team(\"Manchester\")"
   ]
  },
  {
   "cell_type": "code",
   "execution_count": 15,
   "metadata": {
    "tags": []
   },
   "outputs": [],
   "source": [
    "dataset.close()"
   ]
  }
 ],
 "metadata": {
  "kernelspec": {
   "display_name": "socceraction",
   "language": "python",
   "name": "socceraction"
  },
  "language_info": {
   "codemirror_mode": {
    "name": "ipython",
    "version": 3
   },
   "file_extension": ".py",
   "mimetype": "text/x-python",
   "name": "python",
   "nbconvert_exporter": "python",
   "pygments_lexer": "ipython3",
   "version": "3.11.9"
  },
  "toc": {
   "base_numbering": 1,
   "nav_menu": {},
   "number_sections": true,
   "sideBar": true,
   "skip_h1_title": false,
   "title_cell": "Table of Contents",
   "title_sidebar": "Contents",
   "toc_cell": false,
   "toc_position": {},
   "toc_section_display": true,
   "toc_window_display": true
  }
 },
 "nbformat": 4,
 "nbformat_minor": 4
}
